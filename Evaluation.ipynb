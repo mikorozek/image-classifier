{
 "cells": [
  {
   "cell_type": "code",
   "execution_count": null,
   "metadata": {},
   "outputs": [],
   "source": [
    "from torchvision.datasets import ImageFolder\n",
    "import torch\n",
    "import torchvision\n",
    "import torchvision.transforms as transforms\n",
    "import pandas as pd\n",
    "import numpy as np"
   ]
  },
  {
   "cell_type": "code",
   "execution_count": null,
   "metadata": {},
   "outputs": [],
   "source": [
    "transform = transforms.Compose(\n",
    "    [transforms.ToTensor(),\n",
    "     transforms.Normalize((0.5, 0.5, 0.5), (0.5, 0.5, 0.5))])\n",
    "testset = ImageFolder(\"data/test_loader/\", transform=transform)"
   ]
  },
  {
   "cell_type": "code",
   "execution_count": null,
   "metadata": {},
   "outputs": [],
   "source": [
    "train_transform = transforms.Compose(\n",
    "    [transforms.RandomHorizontalFlip(0.5),\n",
    "     transforms.RandomRotation(24),\n",
    "     transforms.ToTensor(),\n",
    "     transforms.Normalize((0.5, 0.5, 0.5), (0.5, 0.5, 0.5))])\n",
    "\n",
    "transform = transforms.Compose(\n",
    "    [transforms.ToTensor(),\n",
    "     transforms.Normalize((0.5, 0.5, 0.5), (0.5, 0.5, 0.5))])\n",
    "\n",
    "batch_size = 32\n",
    "trainset = ImageFolder(\"data/train/\", transform=train_transform)\n",
    "testset = ImageFolder(\"data/test/\", transform=transform)\n",
    "trainloader = torch.utils.data.DataLoader(trainset, batch_size=batch_size,\n",
    "                                          shuffle=True)\n",
    "testloader = torch.utils.data.DataLoader(testset, batch_size=512,\n",
    "                                         shuffle=False)"
   ]
  },
  {
   "cell_type": "code",
   "execution_count": null,
   "metadata": {},
   "outputs": [],
   "source": [
    "import os, shutil"
   ]
  },
  {
   "cell_type": "code",
   "execution_count": null,
   "metadata": {},
   "outputs": [],
   "source": [
    "test_mapping = pd.DataFrame()\n",
    "for img, cl in testset.imgs:\n",
    "    new_img_name = str(np.random.rand())[2:]\n",
    "    test_mapping=test_mapping.append({\"img\":new_img_name,\"cl\":cl},ignore_index=True)\n",
    "    shutil.copy(img,f\"data/test_all/{new_img_name}.JPEG\")\n",
    "#     print(img, cl)"
   ]
  },
  {
   "cell_type": "code",
   "execution_count": null,
   "metadata": {},
   "outputs": [],
   "source": [
    "test_mapping[\"img\"] = test_mapping.img + \".JPEG\""
   ]
  },
  {
   "cell_type": "code",
   "execution_count": null,
   "metadata": {},
   "outputs": [],
   "source": [
    "test_mapping.to_csv(\"data/test_mapping\",index=False)"
   ]
  },
  {
   "cell_type": "markdown",
   "metadata": {},
   "source": [
    "# Final evaluation"
   ]
  },
  {
   "cell_type": "code",
   "execution_count": null,
   "metadata": {},
   "outputs": [],
   "source": [
    "from torchvision.datasets import ImageFolder\n",
    "import torch\n",
    "import torchvision\n",
    "import torchvision.transforms as transforms\n",
    "import pandas as pd\n",
    "import numpy as np"
   ]
  },
  {
   "cell_type": "code",
   "execution_count": null,
   "metadata": {},
   "outputs": [],
   "source": [
    "test_mapping = pd.read_csv(\"data/test_mapping\")"
   ]
  },
  {
   "cell_type": "code",
   "execution_count": null,
   "metadata": {},
   "outputs": [],
   "source": [
    "pd.DataFrame({\"a\":test_mapping.img, \"b\":np.random.randint(0,50,len(test_mapping))}).to_csv(\"all_pia/results/random.csv\", index=False, header=None)"
   ]
  },
  {
   "cell_type": "code",
   "execution_count": null,
   "metadata": {},
   "outputs": [],
   "source": [
    "import os\n",
    "directory = \"results/poniedzialek/all_pon/\"\n",
    "files = os.listdir(directory)"
   ]
  },
  {
   "cell_type": "code",
   "execution_count": null,
   "metadata": {},
   "outputs": [],
   "source": [
    "results = pd.DataFrame()\n",
    "for file in files:\n",
    "    try:\n",
    "        if file[-4:]==\".csv\":\n",
    "            team_name = file[:-4]\n",
    "        else:\n",
    "            team_name = file\n",
    "        predictions = pd.read_csv(directory+file, header=None)\n",
    "        if len(predictions.columns)!=2:\n",
    "            print(f\"Warning: more columns for team {team_name}\")\n",
    "            pred_scores = predictions.merge(test_mapping,left_on=1,right_on=\"img\")\n",
    "            scores = pred_scores[2]\n",
    "        else:\n",
    "            pred_scores = predictions.merge(test_mapping,left_on=0,right_on=\"img\")\n",
    "            scores = pred_scores[1]\n",
    "\n",
    "        accuracy = (scores == pred_scores.cl).sum()/len(test_mapping)\n",
    "        print(len(scores), len(pred_scores))\n",
    "        results = results.append({\"team\":team_name,\"accuracy\":accuracy},ignore_index=True)\n",
    "    except:\n",
    "        print(f\"Error for {file}\")\n",
    "        continue\n",
    "    print(team_name,accuracy)"
   ]
  },
  {
   "cell_type": "code",
   "execution_count": null,
   "metadata": {},
   "outputs": [],
   "source": [
    "results.sort_values(\"accuracy\",ascending=False)"
   ]
  }
 ],
 "metadata": {
  "kernelspec": {
   "display_name": "Python 3 (ipykernel)",
   "language": "python",
   "name": "python3"
  },
  "language_info": {
   "codemirror_mode": {
    "name": "ipython",
    "version": 3
   },
   "file_extension": ".py",
   "mimetype": "text/x-python",
   "name": "python",
   "nbconvert_exporter": "python",
   "pygments_lexer": "ipython3",
   "version": "3.13.2"
  }
 },
 "nbformat": 4,
 "nbformat_minor": 4
}
